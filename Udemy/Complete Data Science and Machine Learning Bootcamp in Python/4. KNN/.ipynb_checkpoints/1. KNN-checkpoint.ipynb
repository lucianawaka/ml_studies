{
 "cells": [
  {
   "cell_type": "markdown",
   "id": "2d4d4cd8",
   "metadata": {},
   "source": [
    "### KNN\n",
    "- Simple nonparametric supervised ML algorithm.\n",
    "- Nonparametric means - DOESN'T make any assumptions on the distribution of the data.\n",
    "- Vote of the nearst neighboors\n",
    "- **Classification** and **Regression**\n",
    "\n",
    "#### Types of Nearest Neighbors Classifiers\n",
    "- KNearestNeighbors - Most common\n",
    "- RadiusNeighborsClassifier - Classification is based os the nº of neighbors within a fixed radius of each training point. Not Uniformly sampled.\n",
    "#### In Regression\n",
    "- Values are assigned based on the **mean** of the nearest neighbors"
   ]
  },
  {
   "cell_type": "markdown",
   "id": "18f0a083",
   "metadata": {},
   "source": [
    "### Caracteristics\n",
    "- Prone to the **curse of dimensionality** (to many features) that leads to overfitting\n",
    "- Feature Selection can **reduce the number of features**\n",
    "- **Lazy learner** - all the heavy lifting happens at the **prediction stage**\n",
    "- Data needs to be **scaled** since the **Euclidean distance** used in computing the distances is sensitive to magnitudes"
   ]
  },
  {
   "cell_type": "code",
   "execution_count": 10,
   "id": "24447cc1",
   "metadata": {},
   "outputs": [],
   "source": [
    "# imports\n",
    "import pandas as pd\n",
    "import numpy as np\n",
    "import matplotlib.pyplot as plt\n",
    "import seaborn as sns\n",
    "sns.set()\n",
    "%matplotlib inline"
   ]
  },
  {
   "cell_type": "code",
   "execution_count": 2,
   "id": "d3fbb045",
   "metadata": {},
   "outputs": [],
   "source": [
    "df = pd.read_csv('default.csv')"
   ]
  },
  {
   "cell_type": "code",
   "execution_count": 3,
   "id": "85ce0ecf",
   "metadata": {},
   "outputs": [
    {
     "data": {
      "text/plain": [
       "(10000, 4)"
      ]
     },
     "execution_count": 3,
     "metadata": {},
     "output_type": "execute_result"
    }
   ],
   "source": [
    "df.shape"
   ]
  },
  {
   "cell_type": "code",
   "execution_count": 4,
   "id": "6e5529fc",
   "metadata": {},
   "outputs": [
    {
     "data": {
      "text/html": [
       "<div>\n",
       "<style scoped>\n",
       "    .dataframe tbody tr th:only-of-type {\n",
       "        vertical-align: middle;\n",
       "    }\n",
       "\n",
       "    .dataframe tbody tr th {\n",
       "        vertical-align: top;\n",
       "    }\n",
       "\n",
       "    .dataframe thead th {\n",
       "        text-align: right;\n",
       "    }\n",
       "</style>\n",
       "<table border=\"1\" class=\"dataframe\">\n",
       "  <thead>\n",
       "    <tr style=\"text-align: right;\">\n",
       "      <th></th>\n",
       "      <th>default</th>\n",
       "      <th>student</th>\n",
       "      <th>balance</th>\n",
       "      <th>income</th>\n",
       "    </tr>\n",
       "  </thead>\n",
       "  <tbody>\n",
       "    <tr>\n",
       "      <th>0</th>\n",
       "      <td>No</td>\n",
       "      <td>No</td>\n",
       "      <td>729.526495</td>\n",
       "      <td>44361.62507</td>\n",
       "    </tr>\n",
       "    <tr>\n",
       "      <th>1</th>\n",
       "      <td>No</td>\n",
       "      <td>Yes</td>\n",
       "      <td>817.180407</td>\n",
       "      <td>12106.13470</td>\n",
       "    </tr>\n",
       "    <tr>\n",
       "      <th>2</th>\n",
       "      <td>No</td>\n",
       "      <td>No</td>\n",
       "      <td>1073.549164</td>\n",
       "      <td>31767.13895</td>\n",
       "    </tr>\n",
       "    <tr>\n",
       "      <th>3</th>\n",
       "      <td>No</td>\n",
       "      <td>No</td>\n",
       "      <td>529.250605</td>\n",
       "      <td>35704.49394</td>\n",
       "    </tr>\n",
       "    <tr>\n",
       "      <th>4</th>\n",
       "      <td>No</td>\n",
       "      <td>No</td>\n",
       "      <td>785.655883</td>\n",
       "      <td>38463.49588</td>\n",
       "    </tr>\n",
       "  </tbody>\n",
       "</table>\n",
       "</div>"
      ],
      "text/plain": [
       "  default student      balance       income\n",
       "0      No      No   729.526495  44361.62507\n",
       "1      No     Yes   817.180407  12106.13470\n",
       "2      No      No  1073.549164  31767.13895\n",
       "3      No      No   529.250605  35704.49394\n",
       "4      No      No   785.655883  38463.49588"
      ]
     },
     "execution_count": 4,
     "metadata": {},
     "output_type": "execute_result"
    }
   ],
   "source": [
    "df.head()"
   ]
  },
  {
   "cell_type": "code",
   "execution_count": 8,
   "id": "b6ce6a9d",
   "metadata": {},
   "outputs": [
    {
     "data": {
      "text/plain": [
       "default    0\n",
       "student    0\n",
       "balance    0\n",
       "income     0\n",
       "dtype: int64"
      ]
     },
     "execution_count": 8,
     "metadata": {},
     "output_type": "execute_result"
    }
   ],
   "source": [
    "# Are there null values?\n",
    "df.isna().sum()"
   ]
  },
  {
   "cell_type": "code",
   "execution_count": 9,
   "id": "3a60048a",
   "metadata": {},
   "outputs": [
    {
     "data": {
      "text/plain": [
       "0"
      ]
     },
     "execution_count": 9,
     "metadata": {},
     "output_type": "execute_result"
    }
   ],
   "source": [
    "# Are there duplicated values?\n",
    "df.duplicated().sum()"
   ]
  },
  {
   "cell_type": "code",
   "execution_count": 11,
   "id": "b1fa676e",
   "metadata": {},
   "outputs": [
    {
     "name": "stdout",
     "output_type": "stream",
     "text": [
      "<class 'pandas.core.frame.DataFrame'>\n",
      "RangeIndex: 10000 entries, 0 to 9999\n",
      "Data columns (total 4 columns):\n",
      " #   Column   Non-Null Count  Dtype  \n",
      "---  ------   --------------  -----  \n",
      " 0   default  10000 non-null  object \n",
      " 1   student  10000 non-null  object \n",
      " 2   balance  10000 non-null  float64\n",
      " 3   income   10000 non-null  float64\n",
      "dtypes: float64(2), object(2)\n",
      "memory usage: 312.6+ KB\n"
     ]
    }
   ],
   "source": [
    "df.info()"
   ]
  },
  {
   "cell_type": "code",
   "execution_count": 12,
   "id": "1023a98a",
   "metadata": {},
   "outputs": [
    {
     "data": {
      "text/plain": [
       "No     9667\n",
       "Yes     333\n",
       "Name: default, dtype: int64"
      ]
     },
     "execution_count": 12,
     "metadata": {},
     "output_type": "execute_result"
    }
   ],
   "source": [
    "df.default.value_counts()"
   ]
  },
  {
   "cell_type": "code",
   "execution_count": 13,
   "id": "771ee9f9",
   "metadata": {},
   "outputs": [
    {
     "data": {
      "text/plain": [
       "No     7056\n",
       "Yes    2944\n",
       "Name: student, dtype: int64"
      ]
     },
     "execution_count": 13,
     "metadata": {},
     "output_type": "execute_result"
    }
   ],
   "source": [
    "df.student.value_counts()"
   ]
  },
  {
   "cell_type": "code",
   "execution_count": 14,
   "id": "77111786",
   "metadata": {},
   "outputs": [
    {
     "data": {
      "text/html": [
       "<div>\n",
       "<style scoped>\n",
       "    .dataframe tbody tr th:only-of-type {\n",
       "        vertical-align: middle;\n",
       "    }\n",
       "\n",
       "    .dataframe tbody tr th {\n",
       "        vertical-align: top;\n",
       "    }\n",
       "\n",
       "    .dataframe thead th {\n",
       "        text-align: right;\n",
       "    }\n",
       "</style>\n",
       "<table border=\"1\" class=\"dataframe\">\n",
       "  <thead>\n",
       "    <tr style=\"text-align: right;\">\n",
       "      <th></th>\n",
       "      <th>balance</th>\n",
       "      <th>income</th>\n",
       "    </tr>\n",
       "  </thead>\n",
       "  <tbody>\n",
       "    <tr>\n",
       "      <th>count</th>\n",
       "      <td>10000.000000</td>\n",
       "      <td>10000.000000</td>\n",
       "    </tr>\n",
       "    <tr>\n",
       "      <th>mean</th>\n",
       "      <td>835.374886</td>\n",
       "      <td>33516.981876</td>\n",
       "    </tr>\n",
       "    <tr>\n",
       "      <th>std</th>\n",
       "      <td>483.714985</td>\n",
       "      <td>13336.639563</td>\n",
       "    </tr>\n",
       "    <tr>\n",
       "      <th>min</th>\n",
       "      <td>0.000000</td>\n",
       "      <td>771.967729</td>\n",
       "    </tr>\n",
       "    <tr>\n",
       "      <th>25%</th>\n",
       "      <td>481.731105</td>\n",
       "      <td>21340.462905</td>\n",
       "    </tr>\n",
       "    <tr>\n",
       "      <th>50%</th>\n",
       "      <td>823.636973</td>\n",
       "      <td>34552.644800</td>\n",
       "    </tr>\n",
       "    <tr>\n",
       "      <th>75%</th>\n",
       "      <td>1166.308387</td>\n",
       "      <td>43807.729275</td>\n",
       "    </tr>\n",
       "    <tr>\n",
       "      <th>max</th>\n",
       "      <td>2654.322576</td>\n",
       "      <td>73554.233500</td>\n",
       "    </tr>\n",
       "  </tbody>\n",
       "</table>\n",
       "</div>"
      ],
      "text/plain": [
       "            balance        income\n",
       "count  10000.000000  10000.000000\n",
       "mean     835.374886  33516.981876\n",
       "std      483.714985  13336.639563\n",
       "min        0.000000    771.967729\n",
       "25%      481.731105  21340.462905\n",
       "50%      823.636973  34552.644800\n",
       "75%     1166.308387  43807.729275\n",
       "max     2654.322576  73554.233500"
      ]
     },
     "execution_count": 14,
     "metadata": {},
     "output_type": "execute_result"
    }
   ],
   "source": [
    "df.describe()"
   ]
  },
  {
   "cell_type": "code",
   "execution_count": 15,
   "id": "cb60f1b5",
   "metadata": {},
   "outputs": [],
   "source": [
    "### Visualizing the default classes\n",
    "defaulters = df.groupby('default')['student'].count().reset_index()"
   ]
  },
  {
   "cell_type": "code",
   "execution_count": 16,
   "id": "a74efb92",
   "metadata": {},
   "outputs": [
    {
     "data": {
      "text/html": [
       "<div>\n",
       "<style scoped>\n",
       "    .dataframe tbody tr th:only-of-type {\n",
       "        vertical-align: middle;\n",
       "    }\n",
       "\n",
       "    .dataframe tbody tr th {\n",
       "        vertical-align: top;\n",
       "    }\n",
       "\n",
       "    .dataframe thead th {\n",
       "        text-align: right;\n",
       "    }\n",
       "</style>\n",
       "<table border=\"1\" class=\"dataframe\">\n",
       "  <thead>\n",
       "    <tr style=\"text-align: right;\">\n",
       "      <th></th>\n",
       "      <th>default</th>\n",
       "      <th>student</th>\n",
       "    </tr>\n",
       "  </thead>\n",
       "  <tbody>\n",
       "    <tr>\n",
       "      <th>0</th>\n",
       "      <td>No</td>\n",
       "      <td>9667</td>\n",
       "    </tr>\n",
       "    <tr>\n",
       "      <th>1</th>\n",
       "      <td>Yes</td>\n",
       "      <td>333</td>\n",
       "    </tr>\n",
       "  </tbody>\n",
       "</table>\n",
       "</div>"
      ],
      "text/plain": [
       "  default  student\n",
       "0      No     9667\n",
       "1     Yes      333"
      ]
     },
     "execution_count": 16,
     "metadata": {},
     "output_type": "execute_result"
    }
   ],
   "source": [
    "defaulters"
   ]
  },
  {
   "cell_type": "markdown",
   "id": "038876c5",
   "metadata": {},
   "source": [
    "### Visualization of the number of defaulters"
   ]
  },
  {
   "cell_type": "code",
   "execution_count": 20,
   "id": "d85b7b5d",
   "metadata": {},
   "outputs": [
    {
     "data": {
      "image/png": "[encoded data removed]",
      "text/plain": [
       "<Figure size 640x480 with 1 Axes>"
      ]
     },
     "metadata": {},
     "output_type": "display_data"
    }
   ],
   "source": [
    "sns.countplot(x=df.default);"
   ]
  },
  {
   "cell_type": "markdown",
   "id": "b31117a2",
   "metadata": {},
   "source": [
    "### Visualization of the number of students"
   ]
  },
  {
   "cell_type": "code",
   "execution_count": 22,
   "id": "366cd194",
   "metadata": {},
   "outputs": [
    {
     "data": {
      "image/png": "[encoded data removed]",
      "text/plain": [
       "<Figure size 640x480 with 1 Axes>"
      ]
     },
     "metadata": {},
     "output_type": "display_data"
    }
   ],
   "source": [
    "sns.countplot(x=df.student);"
   ]
  },
  {
   "cell_type": "code",
   "execution_count": 23,
   "id": "9144d561",
   "metadata": {},
   "outputs": [
    {
     "data": {
      "text/plain": [
       "<seaborn.axisgrid.PairGrid at 0x270b492a1c0>"
      ]
     },
     "execution_count": 23,
     "metadata": {},
     "output_type": "execute_result"
    },
    {
     "data": {
      "image/png": "[encoded data removed]",
      "text/plain": [
       "<Figure size 500x500 with 6 Axes>"
      ]
     },
     "metadata": {},
     "output_type": "display_data"
    }
   ],
   "source": [
    "sns.pairplot(df)"
   ]
  },
  {
   "cell_type": "markdown",
   "id": "7f598495",
   "metadata": {},
   "source": [
    "### Distribution of the data & Checking for Outliers"
   ]
  },
  {
   "cell_type": "code",
   "execution_count": 25,
   "id": "dc348e7b",
   "metadata": {},
   "outputs": [
    {
     "data": {
      "image/png": "[encoded data removed]",
      "text/plain": [
       "<Figure size 640x480 with 1 Axes>"
      ]
     },
     "metadata": {},
     "output_type": "display_data"
    }
   ],
   "source": [
    "sns.boxplot(y=df.balance);"
   ]
  },
  {
   "cell_type": "code",
   "execution_count": 26,
   "id": "e7aee01c",
   "metadata": {},
   "outputs": [],
   "source": [
    "q1_income, q3_income = np.percentile(df.income, [25,75])"
   ]
  },
  {
   "cell_type": "code",
   "execution_count": 27,
   "id": "56599a4b",
   "metadata": {},
   "outputs": [],
   "source": [
    "q1_balance, q3_balance = np.percentile(df.balance, [25,75])"
   ]
  },
  {
   "cell_type": "code",
   "execution_count": 28,
   "id": "d4af893f",
   "metadata": {},
   "outputs": [
    {
     "data": {
      "text/plain": [
       "(21340.462905, 43807.729275)"
      ]
     },
     "execution_count": 28,
     "metadata": {},
     "output_type": "execute_result"
    }
   ],
   "source": [
    "q1_income, q3_income"
   ]
  },
  {
   "cell_type": "code",
   "execution_count": 29,
   "id": "b8e7657c",
   "metadata": {},
   "outputs": [
    {
     "data": {
      "text/plain": [
       "(481.73110505, 1166.30838675)"
      ]
     },
     "execution_count": 29,
     "metadata": {},
     "output_type": "execute_result"
    }
   ],
   "source": [
    "q1_balance, q3_balance"
   ]
  },
  {
   "cell_type": "code",
   "execution_count": 30,
   "id": "400670ca",
   "metadata": {},
   "outputs": [],
   "source": [
    "q4_balance = np.percentile(df.balance, [99])"
   ]
  },
  {
   "cell_type": "code",
   "execution_count": 31,
   "id": "d1d73770",
   "metadata": {},
   "outputs": [
    {
     "data": {
      "text/plain": [
       "array([2008.47086748])"
      ]
     },
     "execution_count": 31,
     "metadata": {},
     "output_type": "execute_result"
    }
   ],
   "source": [
    "q4_balance"
   ]
  },
  {
   "cell_type": "code",
   "execution_count": 32,
   "id": "64f1e728",
   "metadata": {},
   "outputs": [
    {
     "data": {
      "text/plain": [
       "array([823.6369726])"
      ]
     },
     "execution_count": 32,
     "metadata": {},
     "output_type": "execute_result"
    }
   ],
   "source": [
    "q2_balance = np.percentile(df.balance, [50])\n",
    "q2_balance"
   ]
  },
  {
   "cell_type": "code",
   "execution_count": 33,
   "id": "ca48d823",
   "metadata": {},
   "outputs": [
    {
     "data": {
      "text/html": [
       "<div>\n",
       "<style scoped>\n",
       "    .dataframe tbody tr th:only-of-type {\n",
       "        vertical-align: middle;\n",
       "    }\n",
       "\n",
       "    .dataframe tbody tr th {\n",
       "        vertical-align: top;\n",
       "    }\n",
       "\n",
       "    .dataframe thead th {\n",
       "        text-align: right;\n",
       "    }\n",
       "</style>\n",
       "<table border=\"1\" class=\"dataframe\">\n",
       "  <thead>\n",
       "    <tr style=\"text-align: right;\">\n",
       "      <th></th>\n",
       "      <th>balance</th>\n",
       "      <th>income</th>\n",
       "    </tr>\n",
       "  </thead>\n",
       "  <tbody>\n",
       "    <tr>\n",
       "      <th>count</th>\n",
       "      <td>10000.000000</td>\n",
       "      <td>10000.000000</td>\n",
       "    </tr>\n",
       "    <tr>\n",
       "      <th>mean</th>\n",
       "      <td>835.374886</td>\n",
       "      <td>33516.981876</td>\n",
       "    </tr>\n",
       "    <tr>\n",
       "      <th>std</th>\n",
       "      <td>483.714985</td>\n",
       "      <td>13336.639563</td>\n",
       "    </tr>\n",
       "    <tr>\n",
       "      <th>min</th>\n",
       "      <td>0.000000</td>\n",
       "      <td>771.967729</td>\n",
       "    </tr>\n",
       "    <tr>\n",
       "      <th>25%</th>\n",
       "      <td>481.731105</td>\n",
       "      <td>21340.462905</td>\n",
       "    </tr>\n",
       "    <tr>\n",
       "      <th>50%</th>\n",
       "      <td>823.636973</td>\n",
       "      <td>34552.644800</td>\n",
       "    </tr>\n",
       "    <tr>\n",
       "      <th>75%</th>\n",
       "      <td>1166.308387</td>\n",
       "      <td>43807.729275</td>\n",
       "    </tr>\n",
       "    <tr>\n",
       "      <th>max</th>\n",
       "      <td>2654.322576</td>\n",
       "      <td>73554.233500</td>\n",
       "    </tr>\n",
       "  </tbody>\n",
       "</table>\n",
       "</div>"
      ],
      "text/plain": [
       "            balance        income\n",
       "count  10000.000000  10000.000000\n",
       "mean     835.374886  33516.981876\n",
       "std      483.714985  13336.639563\n",
       "min        0.000000    771.967729\n",
       "25%      481.731105  21340.462905\n",
       "50%      823.636973  34552.644800\n",
       "75%     1166.308387  43807.729275\n",
       "max     2654.322576  73554.233500"
      ]
     },
     "execution_count": 33,
     "metadata": {},
     "output_type": "execute_result"
    }
   ],
   "source": [
    "df.describe()"
   ]
  },
  {
   "cell_type": "markdown",
   "id": "8a217e42",
   "metadata": {},
   "source": [
    "### Outliers - calculate the interquarter range"
   ]
  },
  {
   "cell_type": "code",
   "execution_count": 34,
   "id": "e9861220",
   "metadata": {},
   "outputs": [],
   "source": [
    "iqr_income = q3_income - q1_income"
   ]
  },
  {
   "cell_type": "code",
   "execution_count": 35,
   "id": "08dab14c",
   "metadata": {},
   "outputs": [
    {
     "data": {
      "text/plain": [
       "22467.27"
      ]
     },
     "execution_count": 35,
     "metadata": {},
     "output_type": "execute_result"
    }
   ],
   "source": [
    "iqr_income.round(2)"
   ]
  },
  {
   "cell_type": "code",
   "execution_count": 36,
   "id": "513afbc3",
   "metadata": {},
   "outputs": [
    {
     "data": {
      "text/plain": [
       "(481.73110505, 1166.30838675)"
      ]
     },
     "execution_count": 36,
     "metadata": {},
     "output_type": "execute_result"
    }
   ],
   "source": [
    "q1_balance, q3_balance"
   ]
  },
  {
   "cell_type": "code",
   "execution_count": 37,
   "id": "72518620",
   "metadata": {},
   "outputs": [],
   "source": [
    "iqr_balance = q3_balance - q1_balance"
   ]
  },
  {
   "cell_type": "code",
   "execution_count": 38,
   "id": "125fc120",
   "metadata": {},
   "outputs": [
    {
     "data": {
      "text/plain": [
       "684.5772817"
      ]
     },
     "execution_count": 38,
     "metadata": {},
     "output_type": "execute_result"
    }
   ],
   "source": [
    "iqr_balance"
   ]
  },
  {
   "cell_type": "code",
   "execution_count": 39,
   "id": "9069cb21",
   "metadata": {},
   "outputs": [],
   "source": [
    "lower_bound_income = q1_income - (1.5 * iqr_income)\n",
    "upper_bound_income = q3_income + (1.5 * iqr_income)"
   ]
  },
  {
   "cell_type": "code",
   "execution_count": 40,
   "id": "3c1aaee4",
   "metadata": {},
   "outputs": [
    {
     "data": {
      "text/plain": [
       "(-12360.436649999996, 77508.62883)"
      ]
     },
     "execution_count": 40,
     "metadata": {},
     "output_type": "execute_result"
    }
   ],
   "source": [
    "lower_bound_income, upper_bound_income"
   ]
  },
  {
   "cell_type": "code",
   "execution_count": 43,
   "id": "95a0b26a",
   "metadata": {},
   "outputs": [],
   "source": [
    "lower_bound_balance = q1_balance - (1.5 * iqr_balance)\n",
    "upper_bound_balance = q3_balance + (1.5 * iqr_balance)\n"
   ]
  },
  {
   "cell_type": "code",
   "execution_count": 44,
   "id": "ace80d78",
   "metadata": {},
   "outputs": [
    {
     "data": {
      "text/plain": [
       "(-545.1348175, 2193.1743093)"
      ]
     },
     "execution_count": 44,
     "metadata": {},
     "output_type": "execute_result"
    }
   ],
   "source": [
    "lower_bound_balance, upper_bound_balance"
   ]
  },
  {
   "cell_type": "markdown",
   "id": "6e7446e0",
   "metadata": {},
   "source": [
    "#### See the Outliers"
   ]
  },
  {
   "cell_type": "code",
   "execution_count": 45,
   "id": "3a0ee7c7",
   "metadata": {},
   "outputs": [
    {
     "data": {
      "text/html": [
       "<div>\n",
       "<style scoped>\n",
       "    .dataframe tbody tr th:only-of-type {\n",
       "        vertical-align: middle;\n",
       "    }\n",
       "\n",
       "    .dataframe tbody tr th {\n",
       "        vertical-align: top;\n",
       "    }\n",
       "\n",
       "    .dataframe thead th {\n",
       "        text-align: right;\n",
       "    }\n",
       "</style>\n",
       "<table border=\"1\" class=\"dataframe\">\n",
       "  <thead>\n",
       "    <tr style=\"text-align: right;\">\n",
       "      <th></th>\n",
       "      <th>default</th>\n",
       "      <th>student</th>\n",
       "      <th>balance</th>\n",
       "      <th>income</th>\n",
       "    </tr>\n",
       "  </thead>\n",
       "  <tbody>\n",
       "    <tr>\n",
       "      <th>173</th>\n",
       "      <td>Yes</td>\n",
       "      <td>Yes</td>\n",
       "      <td>2205.799521</td>\n",
       "      <td>14271.49225</td>\n",
       "    </tr>\n",
       "    <tr>\n",
       "      <th>1136</th>\n",
       "      <td>Yes</td>\n",
       "      <td>No</td>\n",
       "      <td>2499.016750</td>\n",
       "      <td>51504.29396</td>\n",
       "    </tr>\n",
       "    <tr>\n",
       "      <th>1160</th>\n",
       "      <td>Yes</td>\n",
       "      <td>Yes</td>\n",
       "      <td>2502.684931</td>\n",
       "      <td>14947.51975</td>\n",
       "    </tr>\n",
       "    <tr>\n",
       "      <th>1359</th>\n",
       "      <td>Yes</td>\n",
       "      <td>No</td>\n",
       "      <td>2220.966201</td>\n",
       "      <td>40725.09621</td>\n",
       "    </tr>\n",
       "    <tr>\n",
       "      <th>1502</th>\n",
       "      <td>Yes</td>\n",
       "      <td>Yes</td>\n",
       "      <td>2332.878254</td>\n",
       "      <td>11770.23412</td>\n",
       "    </tr>\n",
       "  </tbody>\n",
       "</table>\n",
       "</div>"
      ],
      "text/plain": [
       "     default student      balance       income\n",
       "173      Yes     Yes  2205.799521  14271.49225\n",
       "1136     Yes      No  2499.016750  51504.29396\n",
       "1160     Yes     Yes  2502.684931  14947.51975\n",
       "1359     Yes      No  2220.966201  40725.09621\n",
       "1502     Yes     Yes  2332.878254  11770.23412"
      ]
     },
     "execution_count": 45,
     "metadata": {},
     "output_type": "execute_result"
    }
   ],
   "source": [
    "df[df['balance'] > 2193.1743093].head()"
   ]
  },
  {
   "cell_type": "code",
   "execution_count": 48,
   "id": "8460992a",
   "metadata": {},
   "outputs": [
    {
     "data": {
      "text/plain": [
       "default    31\n",
       "student    31\n",
       "balance    31\n",
       "income     31\n",
       "dtype: int64"
      ]
     },
     "execution_count": 48,
     "metadata": {},
     "output_type": "execute_result"
    }
   ],
   "source": [
    "df[df['balance'] > 2193.1743093].count()"
   ]
  },
  {
   "cell_type": "code",
   "execution_count": 49,
   "id": "3f620c53",
   "metadata": {},
   "outputs": [
    {
     "name": "stdout",
     "output_type": "stream",
     "text": [
      "<class 'pandas.core.frame.DataFrame'>\n",
      "Int64Index: 31 entries, 173 to 9978\n",
      "Data columns (total 4 columns):\n",
      " #   Column   Non-Null Count  Dtype  \n",
      "---  ------   --------------  -----  \n",
      " 0   default  31 non-null     object \n",
      " 1   student  31 non-null     object \n",
      " 2   balance  31 non-null     float64\n",
      " 3   income   31 non-null     float64\n",
      "dtypes: float64(2), object(2)\n",
      "memory usage: 1.2+ KB\n"
     ]
    }
   ],
   "source": [
    "df[df['balance'] > 2193.1743093].info()"
   ]
  },
  {
   "cell_type": "code",
   "execution_count": null,
   "id": "8051a9bf",
   "metadata": {},
   "outputs": [],
   "source": []
  }
 ],
 "metadata": {
  "kernelspec": {
   "display_name": "Python 3 (ipykernel)",
   "language": "python",
   "name": "python3"
  },
  "language_info": {
   "codemirror_mode": {
    "name": "ipython",
    "version": 3
   },
   "file_extension": ".py",
   "mimetype": "text/x-python",
   "name": "python",
   "nbconvert_exporter": "python",
   "pygments_lexer": "ipython3",
   "version": "3.9.13"
  }
 },
 "nbformat": 4,
 "nbformat_minor": 5
}
